{
 "cells": [
  {
   "cell_type": "code",
   "execution_count": 56,
   "id": "0b7ad0ff",
   "metadata": {},
   "outputs": [
    {
     "name": "stdout",
     "output_type": "stream",
     "text": [
      "Requirement already satisfied: nltk in c:\\users\\usuário\\appdata\\local\\programs\\python\\python311\\lib\\site-packages (3.9.1)\n",
      "Requirement already satisfied: click in c:\\users\\usuário\\appdata\\local\\programs\\python\\python311\\lib\\site-packages (from nltk) (8.2.1)\n",
      "Requirement already satisfied: joblib in c:\\users\\usuário\\appdata\\local\\programs\\python\\python311\\lib\\site-packages (from nltk) (1.5.1)\n",
      "Requirement already satisfied: regex>=2021.8.3 in c:\\users\\usuário\\appdata\\local\\programs\\python\\python311\\lib\\site-packages (from nltk) (2024.11.6)\n",
      "Requirement already satisfied: tqdm in c:\\users\\usuário\\appdata\\local\\programs\\python\\python311\\lib\\site-packages (from nltk) (4.67.1)\n",
      "Requirement already satisfied: colorama in c:\\users\\usuário\\appdata\\local\\programs\\python\\python311\\lib\\site-packages (from click->nltk) (0.4.6)\n",
      "Note: you may need to restart the kernel to use updated packages.\n"
     ]
    }
   ],
   "source": [
    "%pip install nltk"
   ]
  },
  {
   "cell_type": "code",
   "execution_count": 57,
   "id": "4874d79f",
   "metadata": {},
   "outputs": [
    {
     "name": "stderr",
     "output_type": "stream",
     "text": [
      "[nltk_data] Downloading package punkt to\n",
      "[nltk_data]     C:\\Users\\Usuário\\AppData\\Roaming\\nltk_data...\n",
      "[nltk_data]   Package punkt is already up-to-date!\n"
     ]
    },
    {
     "data": {
      "text/plain": [
       "True"
      ]
     },
     "execution_count": 57,
     "metadata": {},
     "output_type": "execute_result"
    }
   ],
   "source": [
    "import nltk\n",
    "import codecs\n",
    "\n",
    "nltk.download('punkt')"
   ]
  },
  {
   "cell_type": "code",
   "execution_count": 58,
   "id": "8328270f",
   "metadata": {},
   "outputs": [],
   "source": [
    "text = \"müsli pöök rääk\"\n",
    "\n",
    "\n",
    "with open('text.txt', 'w', encoding='utf-8-sig') as f:\n",
    "    f.write(text)"
   ]
  },
  {
   "cell_type": "code",
   "execution_count": 59,
   "id": "1a9cd6e5",
   "metadata": {},
   "outputs": [
    {
     "name": "stdout",
     "output_type": "stream",
     "text": [
      "O Problema Original\n",
      "\n",
      "Lendo arquivo usando open() padrão:\n",
      "\n",
      "Texto lido: ﻿müsli pöök rääk\n",
      "Tokens: ['\\ufeffmüsli', 'pöök', 'rääk']\n"
     ]
    }
   ],
   "source": [
    "print(\"O Problema Original\\n\")\n",
    "\n",
    "\n",
    "print(\"Lendo arquivo usando open() padrão:\\n\")\n",
    "\n",
    "with open('text.txt', 'r', encoding='utf-8') as f:\n",
    "    text = f.read()\n",
    "\n",
    "print(f\"Texto lido: {text}\")\n",
    "\n",
    "tokens_nltk = nltk.word_tokenize(text)\n",
    "print(f\"Tokens: {tokens_nltk}\")"
   ]
  },
  {
   "cell_type": "code",
   "execution_count": 60,
   "id": "c0970cf5",
   "metadata": {},
   "outputs": [
    {
     "name": "stdout",
     "output_type": "stream",
     "text": [
      "Solução\n",
      "\n",
      "Lendo arquivo com BOM usando codecs.open() com 'utf-8-sig':\n",
      "\n",
      "Texto lido: müsli pöök rääk\n",
      "Tokens: ['müsli', 'pöök', 'rääk']\n"
     ]
    }
   ],
   "source": [
    "print(\"Solução\\n\")\n",
    "\n",
    "\n",
    "print(\"Lendo arquivo com BOM usando codecs.open() com 'utf-8-sig':\\n\")\n",
    "\n",
    "with codecs.open('text.txt', 'r', 'utf-8-sig') as f:\n",
    "    text = f.read()\n",
    "\n",
    "print(f\"Texto lido: {text}\")\n",
    "\n",
    "tokens_nltk = nltk.word_tokenize(text)\n",
    "print(f\"Tokens: {tokens_nltk}\")"
   ]
  },
  {
   "cell_type": "code",
   "execution_count": 63,
   "id": "870d862e",
   "metadata": {},
   "outputs": [
    {
     "name": "stdout",
     "output_type": "stream",
     "text": [
      "Raiz do problema:\n",
      "\n",
      "- Quando o aqruivo é salvo utilizando o encoding utf-8-sig, um caractere unicode especial BOM é gerado no início do arquivo.\n",
      "- Ler o arquivo com a funão codecs.open() e encoding 'utf-8-sig' consome o caractere\n",
      "\n",
      "Texto bruto lido incorreto: '\\ufeffmüsli pöök rääk'\n",
      "Texto bruto lido correto:  'müsli pöök rääk'\n"
     ]
    }
   ],
   "source": [
    "print(\"Raiz do problema:\\n\")\n",
    "\n",
    "print(\"- Quando o aqruivo é salvo utilizando o encoding utf-8-sig, um caractere unicode especial BOM é gerado no início do arquivo.\")\n",
    "print(\"- Ler o arquivo com a funão codecs.open() e encoding 'utf-8-sig' consome o caractere\\n\")\n",
    "\n",
    "with open('text.txt', 'r', encoding='utf-8') as f:\n",
    "    text = f.read()\n",
    "\n",
    "print(f\"Texto bruto lido incorreto: {repr(text)}\")\n",
    "\n",
    "with codecs.open('text.txt', 'r', 'utf-8-sig') as f:\n",
    "    text = f.read()\n",
    "\n",
    "print(f\"Texto bruto lido correto:  {repr(text)}\")"
   ]
  }
 ],
 "metadata": {
  "kernelspec": {
   "display_name": "Python 3",
   "language": "python",
   "name": "python3"
  },
  "language_info": {
   "codemirror_mode": {
    "name": "ipython",
    "version": 3
   },
   "file_extension": ".py",
   "mimetype": "text/x-python",
   "name": "python",
   "nbconvert_exporter": "python",
   "pygments_lexer": "ipython3",
   "version": "3.11.3"
  }
 },
 "nbformat": 4,
 "nbformat_minor": 5
}
